{
 "cells": [
  {
   "cell_type": "markdown",
   "id": "3c5366df",
   "metadata": {},
   "source": [
    "# ANU ASTR4004 2025 - Week 8\n",
    "\n",
    "Author: Dr Sven Buder (sven.buder@anu.edu.au)"
   ]
  },
  {
   "cell_type": "code",
   "execution_count": null,
   "id": "a44ccb03",
   "metadata": {},
   "outputs": [],
   "source": [
    "try:\n",
    "    %matplotlib inline\n",
    "    %config InlineBackend.figure_format='retina'\n",
    "except:\n",
    "    pass\n",
    "\n",
    "import numpy as np\n",
    "import matplotlib.pyplot as plt\n",
    "import matplotlib\n",
    "from matplotlib import patches\n",
    "\n",
    "# Make the size and fonts larger for this presentation\n",
    "plt.rcParams['font.size'] = 15\n",
    "plt.rcParams['legend.fontsize'] = 12"
   ]
  },
  {
   "cell_type": "markdown",
   "id": "0c650dd6",
   "metadata": {},
   "source": [
    "## Intro to PCA"
   ]
  },
  {
   "cell_type": "code",
   "execution_count": null,
   "id": "6181adc2",
   "metadata": {},
   "outputs": [],
   "source": [
    "# Let's create a random, but reproducible data set\n",
    "rng = np.random.RandomState(1)\n",
    "X = np.dot(rng.rand(2, 2), rng.randn(2, 200)).T"
   ]
  },
  {
   "cell_type": "code",
   "execution_count": null,
   "id": "525a3151",
   "metadata": {},
   "outputs": [],
   "source": [
    "# PCA\n",
    "from sklearn.decomposition import PCA\n",
    "pca = PCA(n_components=2, whiten=True)\n",
    "pca.fit(X)"
   ]
  },
  {
   "cell_type": "code",
   "execution_count": null,
   "id": "a986422b",
   "metadata": {
    "code_folding": [
     0
    ]
   },
   "outputs": [],
   "source": [
    "# Compare input data and the PCA-view of the data\n",
    "fig, ax = plt.subplots(1, 2, figsize=(10,4.5))\n",
    "fig.subplots_adjust(left=0.0625, right=0.95, wspace=0.1)\n",
    "\n",
    "# define a function to draw vectors:\n",
    "def draw_vector(v0, v1, ax=None):\n",
    "    ax = ax or plt.gca()\n",
    "    arrowprops=dict(arrowstyle='->',\n",
    "                    linewidth=2,\n",
    "                    shrinkA=0, shrinkB=0)\n",
    "    ax.annotate('', v1, v0, arrowprops=arrowprops)\n",
    "\n",
    "# plot data\n",
    "ax[0].scatter(X[:, 0], X[:, 1], alpha=0.2)\n",
    "for length, vector in zip(pca.explained_variance_, pca.components_):\n",
    "    v = vector * 3 * np.sqrt(length)\n",
    "    draw_vector(pca.mean_, pca.mean_ + v, ax=ax[0])\n",
    "ax[0].axis('equal');\n",
    "ax[0].set(xlabel='x', ylabel='y', title='input')\n",
    "\n",
    "# plot principal components\n",
    "X_pca = pca.transform(X)\n",
    "ax[1].scatter(X_pca[:, 0], X_pca[:, 1], alpha=0.2)\n",
    "draw_vector([0, 0], [0, 3], ax=ax[1])\n",
    "draw_vector([0, 0], [3, 0], ax=ax[1])\n",
    "ax[1].set(xlabel='component 1', ylabel='component 2',\n",
    "          title='principal components',\n",
    "          xlim=(-5, 5), ylim=(-3, 3.1))\n",
    "ax[1].axis('equal')\n",
    "\n",
    "plt.tight_layout()\n",
    "plt.show()"
   ]
  },
  {
   "cell_type": "markdown",
   "id": "8dc5e569",
   "metadata": {},
   "source": [
    "## GALAH DR4\n",
    "\n",
    "GALAH DR4 is not yet public (but next Tuesday, 1st Oct 2024!).\n",
    "\n",
    "You get exclusive access - but without knowing which star measurements belong to."
   ]
  },
  {
   "cell_type": "markdown",
   "id": "ca59d5ae",
   "metadata": {},
   "source": [
    "### Reformatting of table columns"
   ]
  },
  {
   "cell_type": "code",
   "execution_count": null,
   "id": "a319b24a",
   "metadata": {},
   "outputs": [],
   "source": [
    "# These are all the elements measured by GALAH\n",
    "all_elements = [\n",
    "    'Li', 'C', 'N', 'O', 'Na', 'Mg', 'Al', 'Si', 'K', 'Ca', 'Sc', 'Ti', 'V', 'Cr', 'Mn', \n",
    "    'Fe', 'Co', 'Ni', 'Cu', 'Zn', 'Rb', 'Sr', 'Y', 'Zr', 'Mo', 'Ru', 'Ba', 'La', 'Ce', 'Nd', 'Sm', 'Eu'\n",
    "]\n",
    "print('Nr. of elements: ', len(all_elements))\n",
    "\n",
    "try:\n",
    "\n",
    "    # Read in the GALAH data table (not public yet)\n",
    "    data_df = Table.read('/Users/buder/GALAH_DR4/catalogs/galah_dr4_allstar_240705.fits')\n",
    "\n",
    "\n",
    "    # Li is reported as A(Li). [Li/H] = A(Li) - A(Li)_sun. [Li/Fe] = [Li/H] - [Fe/H]\n",
    "    data_df['li_h'] = data_df['a_li'] - 1.05\n",
    "    data_df['li_fe'] = data_df['li_h'] - data_df['fe_h']\n",
    "    data_df['e_li_fe'] = 0.5*(data_df['e_a_li_low']+data_df['e_a_li_upp'])\n",
    "    data_df['e_li_h'] = 0.5*(data_df['e_a_li_low']+data_df['e_a_li_upp'])\n",
    "    data_df['flag_li_h'] = data_df['flag_a_li']\n",
    "    data_df['flag_li_fe'] = data_df['flag_a_li']\n",
    "\n",
    "    # For ease: create a few reformatted columns\n",
    "    for element in elements:\n",
    "        if element not in ['Li','Fe']:\n",
    "            data_df[f'{element.lower()}_h'] = data_df[f'{element.lower()}_fe'] + data_df['fe_h']\n",
    "            data_df[f'flag_{element.lower()}_h'] = data_df[f'flag_{element.lower()}_fe']\n",
    "            data_df[f'e_{element.lower()}_h'] = data_df[f'e_{element.lower()}_fe']\n",
    "except:\n",
    "    print('You do not have access to GALAH DR4.')"
   ]
  },
  {
   "cell_type": "markdown",
   "id": "eb4d014a",
   "metadata": {},
   "source": [
    "### Preparing abundance data of main-sequence and turn-off stars"
   ]
  },
  {
   "cell_type": "code",
   "execution_count": null,
   "id": "b4ff3654",
   "metadata": {},
   "outputs": [],
   "source": [
    "try:\n",
    "    # Define the list of elements of interest (column names in the FITS file)\n",
    "    elements = [\n",
    "        'Li', # Li is not measured for a lot of stars\n",
    "    #     'C','N', # C and N not measured in these stars\n",
    "        'O','Na','Mg','Al','Si','K','Ca','Sc','Ti',\n",
    "        'V','Cr','Mn','Fe','Co','Ni','Cu','Zn',\n",
    "    #     'Rb', 'Sr', # Are measured only for a tiny fraction of MSTO stars\n",
    "        'Y',\n",
    "    #     'Zr', 'Mo', 'Ru', # Are measured only for a tiny fraction of MSTO stars\n",
    "        'Ba',\n",
    "    #     'Ce', 'Nd', 'Sm', 'Eu' # Are measured only for a tiny fraction of MSTO stars\n",
    "    ]\n",
    "\n",
    "    # Create [X/H] by adding [X/Fe] + [Fe/H]\n",
    "    for element in elements:\n",
    "        if element != 'Fe':\n",
    "            data_df[f'{element.lower()}_h'] = data_df[f'{element.lower()}_fe'] + data_df['fe_h']\n",
    "            data_df[f'flag_{element.lower()}_h'] = data_df[f'flag_{element.lower()}_fe']\n",
    "            data_df[f'e_{element.lower()}_h'] = data_df[f'e_{element.lower()}_fe']\n",
    "\n",
    "    # Reset wrong flag_fe_h\n",
    "    data_df['flag_fe_h'] = 0\n",
    "\n",
    "    unflagged_stars = (\n",
    "        np.all([data_df[f'flag_{element.lower()}_h'] == 0 for element in elements],axis=0) &\n",
    "        np.all([data_df[f'e_{element.lower()}_h'] < 0.1 for element in elements],axis=0) &\n",
    "        (data_df['flag_sp'] == 0) &\n",
    "        (data_df['snr_px_ccd2'] > 50) &\n",
    "        (data_df['teff'] < 6500) &\n",
    "        (data_df['teff'] > 4250) &\n",
    "        (data_df['logg'] > 3.5)\n",
    "    )\n",
    "\n",
    "    print('Remaining stars for '+str(len(elements))+' elements: ', len(data_df['teff'][unflagged_stars]))\n",
    "\n",
    "    data_msto = data_df[[element.lower()+'_h' for element in elements]][unflagged_stars]\n",
    "    data_msto.write('ASTR4004_2025/astr4004_2025_week8/data/galah_abundances_msto.csv',overwrite=True)\n",
    "    \n",
    "except:\n",
    "    pass"
   ]
  },
  {
   "cell_type": "markdown",
   "id": "17fd112d",
   "metadata": {},
   "source": [
    "### Preparing abundance data of giant stars"
   ]
  },
  {
   "cell_type": "code",
   "execution_count": null,
   "id": "dddf96a1",
   "metadata": {},
   "outputs": [],
   "source": [
    "try:\n",
    "    # Define the list of elements of interest (column names in the FITS file)\n",
    "    elements = [\n",
    "    #     'Li', # Li is not measured for a lot of stars\n",
    "        'C','N',\n",
    "        'O','Na','Mg','Al','Si',\n",
    "    #     'K', # let's neglect this for now\n",
    "        'Ca','Sc','Ti',\n",
    "        'V','Cr','Mn','Fe','Co','Ni','Cu','Zn',\n",
    "    #     'Rb', 'Sr', # Are measured only for a tiny fraction of MSTO stars\n",
    "        'Y',\n",
    "    #     'Zr', 'Mo', 'Ru', # Are measured only for a tiny fraction of MSTO stars\n",
    "        'Ba',\n",
    "        'Ce', \n",
    "        'Nd', \n",
    "        'Sm', \n",
    "        'Eu' # This is the only r-process element, so let's include it.\n",
    "    ]\n",
    "\n",
    "    # Create [X/H] by adding [X/Fe] + [Fe/H]\n",
    "    for element in elements:\n",
    "        if element != 'Fe':\n",
    "            data_df[f'{element.lower()}_h'] = data_df[f'{element.lower()}_fe'] + data_df['fe_h']\n",
    "            data_df[f'flag_{element.lower()}_h'] = data_df[f'flag_{element.lower()}_fe']\n",
    "            data_df[f'e_{element.lower()}_h'] = data_df[f'e_{element.lower()}_fe']\n",
    "\n",
    "    # Reset wrong flag_fe_h\n",
    "    data_df['flag_fe_h'] = 0\n",
    "\n",
    "    unflagged_stars = (\n",
    "        np.all([data_df[f'flag_{element.lower()}_h'] == 0 for element in elements],axis=0) &\n",
    "        np.all([data_df[f'e_{element.lower()}_h'] < 0.1 for element in elements],axis=0) &\n",
    "        (data_df['flag_sp'] == 0) &\n",
    "        (data_df['snr_px_ccd2'] > 50) &\n",
    "        (data_df['teff'] < 6500) &\n",
    "        (data_df['teff'] > 4250) &\n",
    "        (data_df['logg'] < 3.5)\n",
    "    )\n",
    "\n",
    "    print('Remaining stars for '+str(len(elements))+' elements: ', len(data_df['teff'][unflagged_stars]))\n",
    "\n",
    "    data_msto = data_df[[element.lower()+'_h' for element in elements]][unflagged_stars]\n",
    "    data_msto.write('ASTR4004_2025/astr4004_2025_week8/data/galah_abundances_giants.csv',overwrite=True)\n",
    "    \n",
    "except:\n",
    "    pass"
   ]
  },
  {
   "cell_type": "markdown",
   "id": "4b728aa7",
   "metadata": {},
   "source": [
    "## Abundance dimensionality of main-sequence and turn-off stars (extensive)"
   ]
  },
  {
   "cell_type": "markdown",
   "id": "5ed5cfb3",
   "metadata": {},
   "source": [
    "### Overview of the Data"
   ]
  },
  {
   "cell_type": "code",
   "execution_count": null,
   "id": "c3ff6669",
   "metadata": {},
   "outputs": [],
   "source": [
    "import matplotlib.pyplot as plt\n",
    "import numpy as np\n",
    "import pandas as pd\n",
    "\n",
    "# Assuming `abundances` is a DataFrame with columns like 'C_H', 'N_H', ..., 'Fe_H'\n",
    "elements = [\n",
    "    'Li', # Li is not measured for a lot of stars\n",
    "#     'C','N', # C and N not measured in these stars\n",
    "    'O',\n",
    "    'Na','Mg','Al','Si',\n",
    "    'K',\n",
    "    'Ca','Sc','Ti',\n",
    "    'V','Cr','Mn','Fe','Co','Ni','Cu','Zn',\n",
    "#     'Rb', 'Sr', # Are measured only for a tiny fraction of MSTO stars\n",
    "    'Y',\n",
    "#     'Zr', 'Mo', 'Ru', # Are measured only for a tiny fraction of MSTO stars\n",
    "    'Ba',\n",
    "#     'Ce', 'Nd', 'Sm', 'Eu' # Are measured only for a tiny fraction of MSTO stars\n",
    "]\n",
    "\n",
    "# Here we assume you have a DataFrame 'abundances' with columns like 'C_H', 'N_H', etc.\n",
    "abundances = pd.read_csv('data/galah_abundances_msto.csv')"
   ]
  },
  {
   "cell_type": "code",
   "execution_count": null,
   "id": "ce392173",
   "metadata": {
    "code_folding": [
     0
    ]
   },
   "outputs": [],
   "source": [
    "# Get an overview of the data\n",
    "fig, axs = plt.subplots(5, 5, figsize=(20, 20), sharex=True, sharey=True)\n",
    "axs = axs.ravel()\n",
    "\n",
    "# Plot [X/H] vs [Fe/H]\n",
    "for i, element in enumerate(elements):\n",
    "    axs[i].scatter(abundances['fe_h'], abundances[f'{element.lower()}_h'], alpha=0.5, s=1)\n",
    "    axs[i].set_title(f\"[{element}/H] vs. [Fe/H]\")\n",
    "    axs[i].set_xlabel(\"[Fe/H]\")\n",
    "    axs[i].set_ylabel(f\"[{element}/H]\")\n",
    "\n",
    "plt.tight_layout()\n",
    "plt.show()\n"
   ]
  },
  {
   "cell_type": "code",
   "execution_count": null,
   "id": "35133754",
   "metadata": {
    "code_folding": [
     0
    ]
   },
   "outputs": [],
   "source": [
    "# Get an overview of the data\n",
    "fig, axs = plt.subplots(5, 5, figsize=(20, 20), sharex=True, sharey=True)\n",
    "axs = axs.ravel()\n",
    "\n",
    "# Plot [X/H] vs [Fe/H]\n",
    "for i, element in enumerate(elements):\n",
    "    axs[i].scatter(abundances['fe_h'], abundances[f'{element.lower()}_h'] - abundances['fe_h'], alpha=0.5, s=1)\n",
    "    axs[i].set_title(f\"[{element}/X] vs. [Fe/H]\")\n",
    "    axs[i].set_xlabel(\"[Fe/H]\")\n",
    "    axs[i].set_ylabel(f\"[{element}/X]\")\n",
    "\n",
    "plt.tight_layout()\n",
    "plt.show()\n"
   ]
  },
  {
   "cell_type": "markdown",
   "id": "27865004",
   "metadata": {},
   "source": [
    "### Prepare Data\n",
    "\n",
    "Before applying PCA, ensure the data is cleaned (i.e., missing values handled) and standardized:"
   ]
  },
  {
   "cell_type": "code",
   "execution_count": null,
   "id": "ed9fe403",
   "metadata": {},
   "outputs": [],
   "source": [
    "from sklearn.preprocessing import StandardScaler\n",
    "\n",
    "# Replace NaN values with column means (if necessary)\n",
    "abundances.fillna(abundances.mean(), inplace=True)\n",
    "\n",
    "# Select only abundance columns (exclude 'Fe_H' if you don't want it in the PCA)\n",
    "abundance_data = abundances[[f'{element.lower()}_h' for element in elements]]\n",
    "\n",
    "# Standardize the data\n",
    "scaler = StandardScaler()\n",
    "scaled_data = scaler.fit_transform(abundance_data)"
   ]
  },
  {
   "cell_type": "markdown",
   "id": "6f950d7f",
   "metadata": {},
   "source": [
    "### Apply PCA\n",
    "\n",
    "We will apply PCA and examine the explained variance:"
   ]
  },
  {
   "cell_type": "code",
   "execution_count": null,
   "id": "1eabb199",
   "metadata": {},
   "outputs": [],
   "source": [
    "from sklearn.decomposition import PCA\n",
    "\n",
    "# Apply PCA\n",
    "pca = PCA(n_components=len(elements) - 1)  # Since 'Fe' is excluded, n_components = 24\n",
    "pca_result = pca.fit_transform(scaled_data)\n",
    "\n",
    "# Explained variance\n",
    "explained_variance = pca.explained_variance_ratio_\n",
    "cumulative_variance = np.cumsum(explained_variance)\n",
    "\n",
    "# Plot the explained variance\n",
    "plt.figure(figsize=(8, 6))\n",
    "plt.plot(range(1, len(explained_variance) + 1), cumulative_variance, marker='o', linestyle='--')\n",
    "plt.xlabel('Number of Components')\n",
    "plt.ylabel('Cumulative Explained Variance')\n",
    "plt.title('Cumulative Explained Variance by Principal Components')\n",
    "plt.xticks([1,3,5,7,9,11,13,15,17,19])\n",
    "plt.grid(True)\n",
    "plt.show()\n",
    "\n",
    "print(f\"Cumulative explained variance: {cumulative_variance}\")"
   ]
  },
  {
   "cell_type": "markdown",
   "id": "dec00834",
   "metadata": {},
   "source": [
    "This plot helps you determine how many principal components (PCs) are needed to explain most of the variance.  \n",
    "\n",
    "Typically, you'll want to retain PCs that explain 95% or more of the variance."
   ]
  },
  {
   "cell_type": "markdown",
   "id": "2b3784e1",
   "metadata": {},
   "source": [
    "### Interpret Principal Components\n",
    "\n",
    "Now, let's inspect the first few principal components and see how they correlate with the original element abundances:"
   ]
  },
  {
   "cell_type": "code",
   "execution_count": null,
   "id": "3c71fa90",
   "metadata": {},
   "outputs": [],
   "source": [
    "# Get the loadings (eigenvectors) of the principal components\n",
    "loadings = pd.DataFrame(pca.components_.T, columns=[f'PC{i+1}' for i in range(pca.n_components_)], index=[f'{el}_H' for el in elements])\n",
    "\n",
    "# Display the loadings of the first few principal components\n",
    "print(loadings.iloc[:, :3])  # Show loadings for the first 3 PCs"
   ]
  },
  {
   "cell_type": "markdown",
   "id": "e4c6ff33",
   "metadata": {},
   "source": [
    "The loadings matrix shows how much each element contributes to the principal components.\n",
    "\n",
    "You can interpret these as correlations between the PCs and the abundances."
   ]
  },
  {
   "cell_type": "markdown",
   "id": "e93520e9",
   "metadata": {},
   "source": [
    "### Understanding Chemical Dimensionality via Visualizations"
   ]
  },
  {
   "cell_type": "markdown",
   "id": "d705ac7f",
   "metadata": {},
   "source": [
    "#### Biplot of the First Two Principal Components\n",
    "\n",
    "A biplot can help you understand how the first two PCs relate to the original abundances:"
   ]
  },
  {
   "cell_type": "code",
   "execution_count": null,
   "id": "b4d8aed4",
   "metadata": {
    "code_folding": [
     0
    ]
   },
   "outputs": [],
   "source": [
    "# Biplot: plot first two principal components and loadings\n",
    "f, gs = plt.subplots(1,2,figsize=(12,5))\n",
    "\n",
    "# Scatter plot of the first two principal components\n",
    "gs[0].hist2d(pca_result[:, 0], pca_result[:, 1],bins=100,cmap='Greys_r',cmin=1)\n",
    "gs[1].hist2d(pca_result[:, 0], pca_result[:, 1],bins=100,cmap='Greys',cmin=1)#, alpha=0.5, s=1, c = 'k')\n",
    "\n",
    "# Plot the loadings (directions of the original variables)\n",
    "for i, element in enumerate(elements):\n",
    "    if element != 'Fe':\n",
    "        gs[1].arrow(0, 0, loadings.iloc[i, 0] * 5, loadings.iloc[i, 1] * 5, color='C0', head_width=0.05)\n",
    "        gs[1].text(loadings.iloc[i, 0] * 5, loadings.iloc[i, 1] * 5, f'{element}', color='C1')\n",
    "\n",
    "gs[0].set_xlabel('PC1')\n",
    "gs[0].set_ylabel('PC2')\n",
    "gs[1].set_xlabel('PC1')\n",
    "gs[1].set_ylabel('PC2')\n",
    "gs[1].set_xlim(-5,5)\n",
    "gs[1].set_ylim(-1.5,3.0)\n",
    "plt.grid(True)\n",
    "plt.tight_layout()\n",
    "plt.show()"
   ]
  },
  {
   "cell_type": "markdown",
   "id": "e612cc18",
   "metadata": {},
   "source": [
    "#### Heatmap of the Principal Component Loadings\n",
    "\n",
    "A heatmap of the PCA loadings can reveal patterns, such as grouping of elements based on nucleosynthesis processes (e.g., α-elements, iron-peak elements):"
   ]
  },
  {
   "cell_type": "code",
   "execution_count": null,
   "id": "b0e839eb",
   "metadata": {},
   "outputs": [],
   "source": [
    "import seaborn as sns\n",
    "\n",
    "# Heatmap of the loadings for the first few PCs\n",
    "plt.figure(figsize=(15, 10))\n",
    "sns.heatmap(loadings.iloc[:, :10], annot=True, cmap=\"coolwarm\")\n",
    "plt.title('Heatmap of PCA Loadings (First 10 PCs)')\n",
    "plt.show()"
   ]
  },
  {
   "cell_type": "markdown",
   "id": "c9457a83",
   "metadata": {},
   "source": [
    "This heatmap will show which elements are most strongly associated with each PC."
   ]
  },
  {
   "cell_type": "markdown",
   "id": "b492dda9",
   "metadata": {},
   "source": [
    "#### Projection onto Principal Components\n",
    "\n",
    "Finally, you can project stars onto the principal component space to see how they cluster:"
   ]
  },
  {
   "cell_type": "code",
   "execution_count": null,
   "id": "4c75d4f8",
   "metadata": {},
   "outputs": [],
   "source": [
    "f, gs = plt.subplots(1,2,figsize=(15,5))\n",
    "ax = gs[0]\n",
    "s = ax.scatter(pca_result[:, 0], pca_result[:, 1], s=5, c=abundances['fe_h'], cmap='RdYlBu')\n",
    "plt.colorbar(s, ax=ax,label='[Fe/H]')\n",
    "ax.set_xlabel('PC1')\n",
    "ax.set_ylabel('PC2')\n",
    "\n",
    "ax = gs[1]\n",
    "s = ax.scatter(pca_result[:, 0], pca_result[:, 1], s=5, c=abundances['li_h']-abundances['fe_h'], cmap='RdYlBu')\n",
    "plt.colorbar(s, ax=ax,label='[Li/Fe]')\n",
    "ax.set_xlabel('PC1')\n",
    "ax.set_ylabel('PC2')\n",
    "\n",
    "plt.tight_layout()\n",
    "plt.show()"
   ]
  },
  {
   "cell_type": "code",
   "execution_count": null,
   "id": "cb63c51c",
   "metadata": {
    "scrolled": true
   },
   "outputs": [],
   "source": [
    "f, gs = plt.subplots(1,2,figsize=(15,5))\n",
    "ax = gs[0]\n",
    "s = ax.scatter(pca_result[:, 0], pca_result[:, 2], s=5, c=abundances['ca_h'], cmap='RdYlBu')\n",
    "plt.colorbar(s, ax=ax,label='[Ca/H]')\n",
    "ax.set_xlabel('PC1')\n",
    "ax.set_ylabel('PC2')\n",
    "\n",
    "ax = gs[1]\n",
    "s = ax.scatter(pca_result[:, 0], pca_result[:, 2], s=5, c=abundances['o_h']-abundances['fe_h'], cmap='RdYlBu')\n",
    "plt.colorbar(s, ax=ax,label='[O/Fe]')\n",
    "ax.set_xlabel('PC1')\n",
    "ax.set_ylabel('PC2')\n",
    "\n",
    "plt.tight_layout()\n",
    "plt.show()"
   ]
  },
  {
   "cell_type": "markdown",
   "id": "22d86c77",
   "metadata": {},
   "source": [
    "## Abundance dimensionality of main-sequence and turn-off stars"
   ]
  },
  {
   "cell_type": "markdown",
   "id": "8235b01a",
   "metadata": {},
   "source": [
    "### Overview of the Data"
   ]
  },
  {
   "cell_type": "code",
   "execution_count": null,
   "id": "3d82dff7",
   "metadata": {},
   "outputs": [],
   "source": [
    "import matplotlib.pyplot as plt\n",
    "import numpy as np\n",
    "import pandas as pd\n",
    "\n",
    "# Assuming `abundances` is a DataFrame with columns like 'C_H', 'N_H', ..., 'Fe_H'\n",
    "elements = [\n",
    "    'Li', # Li is not measured for a lot of stars\n",
    "#     'C','N', # C and N not measured in these stars\n",
    "    'O',\n",
    "    'Na','Mg','Al','Si',\n",
    "    'K',\n",
    "    'Ca','Sc','Ti',\n",
    "    'V','Cr','Mn','Fe','Co','Ni','Cu','Zn',\n",
    "#     'Rb', 'Sr', # Are measured only for a tiny fraction of MSTO stars\n",
    "    'Y',\n",
    "#     'Zr', 'Mo', 'Ru', # Are measured only for a tiny fraction of MSTO stars\n",
    "    'Ba',\n",
    "#     'Ce', 'Nd', 'Sm', 'Eu' # Are measured only for a tiny fraction of MSTO stars\n",
    "]\n",
    "\n",
    "# Let's start with only Fe and the alpha-process elements Mg, Si, Ca, Ti, and the s-process elements Y, Ba\n",
    "elements = [\n",
    "    'Mg','Si','Ca','Ti',\n",
    "    'Fe',\n",
    "    'Y','Ba'\n",
    "]\n",
    "\n",
    "# Here we assume you have a DataFrame 'abundances' with columns like 'C_H', 'N_H', etc.\n",
    "abundances = pd.read_csv('data/galah_abundances_msto.csv')"
   ]
  },
  {
   "cell_type": "code",
   "execution_count": null,
   "id": "a0374565",
   "metadata": {
    "code_folding": [
     0
    ]
   },
   "outputs": [],
   "source": [
    "# Get an overview of the data\n",
    "fig, axs = plt.subplots(5, 5, figsize=(20, 20), sharex=True, sharey=True)\n",
    "axs = axs.ravel()\n",
    "\n",
    "# Plot [X/H] vs [Fe/H]\n",
    "for i, element in enumerate(elements):\n",
    "    axs[i].scatter(abundances['fe_h'], abundances[f'{element.lower()}_h'], alpha=0.5, s=1)\n",
    "    axs[i].set_title(f\"[{element}/H] vs. [Fe/H]\")\n",
    "    axs[i].set_xlabel(\"[Fe/H]\")\n",
    "    axs[i].set_ylabel(f\"[{element}/H]\")\n",
    "\n",
    "plt.tight_layout()\n",
    "plt.show()\n"
   ]
  },
  {
   "cell_type": "code",
   "execution_count": null,
   "id": "0625e7c3",
   "metadata": {
    "code_folding": [
     0
    ]
   },
   "outputs": [],
   "source": [
    "# Get an overview of the data\n",
    "fig, axs = plt.subplots(5, 5, figsize=(20, 20), sharex=True, sharey=True)\n",
    "axs = axs.ravel()\n",
    "\n",
    "# Plot [X/H] vs [Fe/H]\n",
    "for i, element in enumerate(elements):\n",
    "    axs[i].scatter(abundances['fe_h'], abundances[f'{element.lower()}_h'] - abundances['fe_h'], alpha=0.5, s=1)\n",
    "    axs[i].set_title(f\"[{element}/X] vs. [Fe/H]\")\n",
    "    axs[i].set_xlabel(\"[Fe/H]\")\n",
    "    axs[i].set_ylabel(f\"[{element}/X]\")\n",
    "\n",
    "plt.tight_layout()\n",
    "plt.show()\n"
   ]
  },
  {
   "cell_type": "markdown",
   "id": "5e12ff5b",
   "metadata": {},
   "source": [
    "### Prepare Data\n",
    "\n",
    "Before applying PCA, ensure the data is cleaned (i.e., missing values handled) and standardized:"
   ]
  },
  {
   "cell_type": "code",
   "execution_count": null,
   "id": "d17b0e45",
   "metadata": {},
   "outputs": [],
   "source": [
    "from sklearn.preprocessing import StandardScaler\n",
    "\n",
    "# Replace NaN values with column means (if necessary)\n",
    "abundances.fillna(abundances.mean(), inplace=True)\n",
    "\n",
    "# Select only abundance columns (exclude 'Fe_H' if you don't want it in the PCA)\n",
    "abundance_data = abundances[[f'{element.lower()}_h' for element in elements]]\n",
    "\n",
    "# Standardize the data\n",
    "scaler = StandardScaler()\n",
    "scaled_data = scaler.fit_transform(abundance_data)"
   ]
  },
  {
   "cell_type": "markdown",
   "id": "c5e0dfef",
   "metadata": {},
   "source": [
    "### Apply PCA\n",
    "\n",
    "We will apply PCA and examine the explained variance:"
   ]
  },
  {
   "cell_type": "code",
   "execution_count": null,
   "id": "301a9414",
   "metadata": {},
   "outputs": [],
   "source": [
    "from sklearn.decomposition import PCA\n",
    "\n",
    "# Apply PCA\n",
    "pca = PCA(n_components=len(elements) - 1)  # Since 'Fe' is excluded, n_components = 24\n",
    "pca_result = pca.fit_transform(scaled_data)\n",
    "\n",
    "# Explained variance\n",
    "explained_variance = pca.explained_variance_ratio_\n",
    "cumulative_variance = np.cumsum(explained_variance)\n",
    "\n",
    "# Plot the explained variance\n",
    "plt.figure(figsize=(8, 6))\n",
    "plt.plot(range(1, len(explained_variance) + 1), cumulative_variance, marker='o', linestyle='--')\n",
    "plt.xlabel('Number of Components')\n",
    "plt.ylabel('Cumulative Explained Variance')\n",
    "plt.title('Cumulative Explained Variance by Principal Components')\n",
    "plt.grid(True)\n",
    "plt.show()\n",
    "\n",
    "print(f\"Cumulative explained variance: {cumulative_variance}\")"
   ]
  },
  {
   "cell_type": "markdown",
   "id": "e65cd80a",
   "metadata": {},
   "source": [
    "This plot helps you determine how many principal components (PCs) are needed to explain most of the variance.  \n",
    "\n",
    "Typically, you'll want to retain PCs that explain 95% or more of the variance."
   ]
  },
  {
   "cell_type": "markdown",
   "id": "33070ffc",
   "metadata": {},
   "source": [
    "### Interpret Principal Components\n",
    "\n",
    "Now, let's inspect the first few principal components and see how they correlate with the original element abundances:"
   ]
  },
  {
   "cell_type": "code",
   "execution_count": null,
   "id": "e9e03793",
   "metadata": {},
   "outputs": [],
   "source": [
    "# Get the loadings (eigenvectors) of the principal components\n",
    "loadings = pd.DataFrame(pca.components_.T, columns=[f'PC{i+1}' for i in range(pca.n_components_)], index=[f'{el}_H' for el in elements])\n",
    "\n",
    "# Display the loadings of the first few principal components\n",
    "print(loadings.iloc[:, :3])  # Show loadings for the first 3 PCs"
   ]
  },
  {
   "cell_type": "markdown",
   "id": "73c7a3d8",
   "metadata": {},
   "source": [
    "The loadings matrix shows how much each element contributes to the principal components.\n",
    "\n",
    "You can interpret these as correlations between the PCs and the abundances."
   ]
  },
  {
   "cell_type": "markdown",
   "id": "89a3fb43",
   "metadata": {},
   "source": [
    "### Understanding Chemical Dimensionality via Visualizations"
   ]
  },
  {
   "cell_type": "markdown",
   "id": "046def3e",
   "metadata": {},
   "source": [
    "#### Biplot of the First Two Principal Components\n",
    "\n",
    "A biplot can help you understand how the first two PCs relate to the original abundances:"
   ]
  },
  {
   "cell_type": "code",
   "execution_count": null,
   "id": "fdb87a7b",
   "metadata": {},
   "outputs": [],
   "source": [
    "# Biplot: plot first two principal components and loadings\n",
    "f, gs = plt.subplots(1,2,figsize=(12,5))\n",
    "\n",
    "# Scatter plot of the first two principal components\n",
    "gs[0].hist2d(pca_result[:, 0], pca_result[:, 1],bins=100,cmap='Greys_r',cmin=1)\n",
    "gs[1].hist2d(pca_result[:, 0], pca_result[:, 1],bins=100,cmap='Greys',cmin=1)#, alpha=0.5, s=1, c = 'k')\n",
    "\n",
    "# Plot the loadings (directions of the original variables)\n",
    "for i, element in enumerate(elements):\n",
    "    if element != 'Fe':\n",
    "        gs[1].arrow(0, 0, loadings.iloc[i, 0] * 5, loadings.iloc[i, 1] * 5, color='C0', head_width=0.05)\n",
    "        gs[1].text(loadings.iloc[i, 0] * 5, loadings.iloc[i, 1] * 5, f'{element}', color='C1')\n",
    "\n",
    "gs[0].set_xlabel('PC1')\n",
    "gs[0].set_ylabel('PC2')\n",
    "gs[1].set_xlabel('PC1')\n",
    "gs[1].set_ylabel('PC2')\n",
    "gs[1].set_xlim(-5,5)\n",
    "gs[1].set_ylim(-1.5,3.0)\n",
    "plt.grid(True)\n",
    "plt.tight_layout()\n",
    "plt.show()"
   ]
  },
  {
   "cell_type": "markdown",
   "id": "1db7254f",
   "metadata": {},
   "source": [
    "#### Heatmap of the Principal Component Loadings\n",
    "\n",
    "A heatmap of the PCA loadings can reveal patterns, such as grouping of elements based on nucleosynthesis processes (e.g., α-elements, iron-peak elements):"
   ]
  },
  {
   "cell_type": "code",
   "execution_count": null,
   "id": "053ccf6c",
   "metadata": {},
   "outputs": [],
   "source": [
    "import seaborn as sns\n",
    "\n",
    "# Heatmap of the loadings for the first few PCs\n",
    "plt.figure(figsize=(15, 10))\n",
    "sns.heatmap(loadings.iloc[:, :10], annot=True, cmap=\"coolwarm\")\n",
    "plt.title('Heatmap of PCA Loadings (First 5 PCs)')\n",
    "plt.show()"
   ]
  },
  {
   "cell_type": "markdown",
   "id": "8ca08541",
   "metadata": {},
   "source": [
    "This heatmap will show which elements are most strongly associated with each PC."
   ]
  },
  {
   "cell_type": "markdown",
   "id": "2e70b809",
   "metadata": {},
   "source": [
    "#### Projection onto Principal Components\n",
    "\n",
    "Finally, you can project stars onto the principal component space to see how they cluster:"
   ]
  },
  {
   "cell_type": "code",
   "execution_count": null,
   "id": "e5aa85f6",
   "metadata": {},
   "outputs": [],
   "source": [
    "f, gs = plt.subplots(1,2,figsize=(15,5))\n",
    "ax = gs[0]\n",
    "s = ax.scatter(pca_result[:, 0], pca_result[:, 1], s=5, c=abundances['fe_h'], cmap='RdYlBu')\n",
    "plt.colorbar(s, ax=ax,label='[Fe/H]')\n",
    "ax.set_xlabel('PC1')\n",
    "ax.set_ylabel('PC2')\n",
    "\n",
    "ax = gs[1]\n",
    "s = ax.scatter(pca_result[:, 0], pca_result[:, 1], s=5, c=abundances['ba_h']-abundances['fe_h'], cmap='RdYlBu')\n",
    "plt.colorbar(s, ax=ax,label='[Ba/Fe]')\n",
    "ax.set_xlabel('PC1')\n",
    "ax.set_ylabel('PC2')\n",
    "\n",
    "plt.tight_layout()\n",
    "plt.show()"
   ]
  },
  {
   "cell_type": "code",
   "execution_count": null,
   "id": "ff0eda73",
   "metadata": {
    "scrolled": true
   },
   "outputs": [],
   "source": [
    "f, gs = plt.subplots(1,2,figsize=(15,5))\n",
    "ax = gs[0]\n",
    "s = ax.scatter(pca_result[:, 0], pca_result[:, 2], s=5, c=abundances['ca_h'], cmap='RdYlBu')\n",
    "plt.colorbar(s, ax=ax,label='[Ca/H]')\n",
    "ax.set_xlabel('PC1')\n",
    "ax.set_ylabel('PC2')\n",
    "\n",
    "ax = gs[1]\n",
    "s = ax.scatter(pca_result[:, 0], pca_result[:, 2], s=5, c=abundances['ca_h']-abundances['fe_h'], cmap='RdYlBu')\n",
    "plt.colorbar(s, ax=ax,label='[Ca/Fe]')\n",
    "ax.set_xlabel('PC1')\n",
    "ax.set_ylabel('PC2')\n",
    "\n",
    "plt.tight_layout()\n",
    "plt.show()"
   ]
  },
  {
   "cell_type": "markdown",
   "id": "7e80f3a9",
   "metadata": {},
   "source": [
    "## Abundance dimensionality of giant stars"
   ]
  },
  {
   "cell_type": "markdown",
   "id": "fb3ff608",
   "metadata": {},
   "source": [
    "### Overview of the Data"
   ]
  },
  {
   "cell_type": "code",
   "execution_count": null,
   "id": "488cce60",
   "metadata": {},
   "outputs": [],
   "source": [
    "import matplotlib.pyplot as plt\n",
    "import numpy as np\n",
    "import pandas as pd\n",
    "\n",
    "# Assuming `abundances` is a DataFrame with columns like 'C_H', 'N_H', ..., 'Fe_H'\n",
    "elements = [\n",
    "#     'Li', # Li is not measured for a lot of stars\n",
    "    'C','N',\n",
    "    'O','Na','Mg','Al','Si','K','Ca','Sc','Ti',\n",
    "    'V','Cr','Mn','Fe','Co','Ni','Cu','Zn',\n",
    "#     'Rb', 'Sr', # Are measured only for a tiny fraction of MSTO stars\n",
    "    'Y',\n",
    "#     'Zr', 'Mo', 'Ru', # Are measured only for a tiny fraction of MSTO stars\n",
    "    'Ba',\n",
    "    'Ce', \n",
    "    'Nd', \n",
    "    'Sm', \n",
    "#     'Eu' # This is the only r-process element, but not well measured\n",
    "]\n",
    "\n",
    "\n",
    "# Here we assume you have a DataFrame 'abundances' with columns like 'C_H', 'N_H', etc.\n",
    "abundances = pd.read_csv('data/galah_abundances_giants.csv')\n",
    "abundances = abundances[abundances['fe_h'] > -1]"
   ]
  },
  {
   "cell_type": "code",
   "execution_count": null,
   "id": "1721b7bc",
   "metadata": {},
   "outputs": [],
   "source": [
    "abundances"
   ]
  },
  {
   "cell_type": "code",
   "execution_count": null,
   "id": "6282e365",
   "metadata": {
    "code_folding": [
     0
    ]
   },
   "outputs": [],
   "source": [
    "# Get an overview of the data\n",
    "fig, axs = plt.subplots(5, 5, figsize=(20, 20), sharex=True, sharey=True)\n",
    "axs = axs.ravel()\n",
    "\n",
    "# Plot [X/H] vs [Fe/H]\n",
    "for i, element in enumerate(elements):\n",
    "    axs[i].scatter(abundances['fe_h'], abundances[f'{element.lower()}_h'], alpha=0.5, s=1)\n",
    "    axs[i].set_title(f\"[{element}/H] vs. [Fe/H]\")\n",
    "    axs[i].set_xlabel(\"[Fe/H]\")\n",
    "    axs[i].set_ylabel(f\"[{element}/H]\")\n",
    "\n",
    "plt.tight_layout()\n",
    "plt.show()\n"
   ]
  },
  {
   "cell_type": "code",
   "execution_count": null,
   "id": "7bc61815",
   "metadata": {
    "code_folding": [
     0
    ]
   },
   "outputs": [],
   "source": [
    "# Get an overview of the data\n",
    "fig, axs = plt.subplots(5, 5, figsize=(20, 20), sharex=True, sharey=True)\n",
    "axs = axs.ravel()\n",
    "\n",
    "# Plot [X/H] vs [Fe/H]\n",
    "for i, element in enumerate(elements):\n",
    "    axs[i].scatter(abundances['fe_h'], abundances[f'{element.lower()}_h'] - abundances['fe_h'], alpha=0.5, s=1)\n",
    "    axs[i].set_title(f\"[{element}/X] vs. [Fe/H]\")\n",
    "    axs[i].set_xlabel(\"[Fe/H]\")\n",
    "    axs[i].set_ylabel(f\"[{element}/X]\")\n",
    "\n",
    "plt.tight_layout()\n",
    "plt.show()\n"
   ]
  },
  {
   "cell_type": "markdown",
   "id": "e284780a",
   "metadata": {},
   "source": [
    "### Prepare Data\n",
    "\n",
    "Before applying PCA, ensure the data is cleaned (i.e., missing values handled) and standardized:"
   ]
  },
  {
   "cell_type": "code",
   "execution_count": null,
   "id": "31e98d6f",
   "metadata": {},
   "outputs": [],
   "source": [
    "from sklearn.preprocessing import StandardScaler\n",
    "\n",
    "# Replace NaN values with column means (if necessary)\n",
    "abundances.fillna(abundances.mean(), inplace=True)\n",
    "\n",
    "# Select only abundance columns (exclude 'Fe_H' if you don't want it in the PCA)\n",
    "abundance_data = abundances[[f'{element.lower()}_h' for element in elements]]\n",
    "\n",
    "# Standardize the data\n",
    "scaler = StandardScaler()\n",
    "scaled_data = scaler.fit_transform(abundance_data)"
   ]
  },
  {
   "cell_type": "markdown",
   "id": "316f73a4",
   "metadata": {},
   "source": [
    "### Apply PCA\n",
    "\n",
    "We will apply PCA and examine the explained variance:"
   ]
  },
  {
   "cell_type": "code",
   "execution_count": null,
   "id": "3daec26d",
   "metadata": {},
   "outputs": [],
   "source": [
    "from sklearn.decomposition import PCA\n",
    "\n",
    "# Apply PCA\n",
    "pca = PCA(n_components=len(elements) - 1)  # Since 'Fe' is excluded, n_components = 24\n",
    "pca_result = pca.fit_transform(scaled_data)\n",
    "\n",
    "# Explained variance\n",
    "explained_variance = pca.explained_variance_ratio_\n",
    "cumulative_variance = np.cumsum(explained_variance)\n",
    "\n",
    "# Plot the explained variance\n",
    "plt.figure(figsize=(8, 6))\n",
    "plt.plot(range(1, len(explained_variance) + 1), cumulative_variance, marker='o', linestyle='--')\n",
    "plt.xlabel('Number of Components')\n",
    "plt.ylabel('Cumulative Explained Variance')\n",
    "plt.title('Cumulative Explained Variance by Principal Components')\n",
    "plt.grid(True)\n",
    "plt.show()\n",
    "\n",
    "print(f\"Cumulative explained variance: {cumulative_variance}\")"
   ]
  },
  {
   "cell_type": "markdown",
   "id": "607997f1",
   "metadata": {},
   "source": [
    "This plot helps you determine how many principal components (PCs) are needed to explain most of the variance.  \n",
    "\n",
    "Typically, you'll want to retain PCs that explain 95% or more of the variance."
   ]
  },
  {
   "cell_type": "markdown",
   "id": "a2323300",
   "metadata": {},
   "source": [
    "### Interpret Principal Components\n",
    "\n",
    "Now, let's inspect the first few principal components and see how they correlate with the original element abundances:"
   ]
  },
  {
   "cell_type": "code",
   "execution_count": null,
   "id": "fd546f24",
   "metadata": {},
   "outputs": [],
   "source": [
    "# Get the loadings (eigenvectors) of the principal components\n",
    "loadings = pd.DataFrame(pca.components_.T, columns=[f'PC{i+1}' for i in range(pca.n_components_)], index=[f'{el}_H' for el in elements])\n",
    "\n",
    "# Display the loadings of the first few principal components\n",
    "print(loadings.iloc[:, :3])  # Show loadings for the first 3 PCs"
   ]
  },
  {
   "cell_type": "markdown",
   "id": "454fa424",
   "metadata": {},
   "source": [
    "The loadings matrix shows how much each element contributes to the principal components.\n",
    "\n",
    "You can interpret these as correlations between the PCs and the abundances."
   ]
  },
  {
   "cell_type": "markdown",
   "id": "2214c808",
   "metadata": {},
   "source": [
    "### Understanding Chemical Dimensionality via Visualizations"
   ]
  },
  {
   "cell_type": "markdown",
   "id": "0afcf900",
   "metadata": {},
   "source": [
    "#### Biplot of the First Two Principal Components\n",
    "\n",
    "A biplot can help you understand how the first two PCs relate to the original abundances:"
   ]
  },
  {
   "cell_type": "code",
   "execution_count": null,
   "id": "4da1d808",
   "metadata": {},
   "outputs": [],
   "source": [
    "# Biplot: plot first two principal components and loadings\n",
    "f, gs = plt.subplots(1,2,figsize=(12,5))\n",
    "\n",
    "# Scatter plot of the first two principal components\n",
    "gs[0].hist2d(pca_result[:, 0], pca_result[:, 1],bins=100,cmap='Greys_r',cmin=1)\n",
    "gs[1].hist2d(pca_result[:, 0], pca_result[:, 1],bins=100,cmap='Greys',cmin=1)#, alpha=0.5, s=1, c = 'k')\n",
    "\n",
    "# Plot the loadings (directions of the original variables)\n",
    "for i, element in enumerate(elements):\n",
    "    if element != 'Fe':\n",
    "        gs[1].arrow(0, 0, loadings.iloc[i, 0] * 5, loadings.iloc[i, 1] * 5, color='C0', head_width=0.05)\n",
    "        gs[1].text(loadings.iloc[i, 0] * 5, loadings.iloc[i, 1] * 5, f'{element}', color='C1')\n",
    "\n",
    "gs[0].set_xlabel('PC1')\n",
    "gs[0].set_ylabel('PC2')\n",
    "gs[1].set_xlabel('PC1')\n",
    "gs[1].set_ylabel('PC2')\n",
    "gs[1].set_xlim(-5,5)\n",
    "gs[1].set_ylim(-1.5,3.0)\n",
    "plt.grid(True)\n",
    "plt.tight_layout()\n",
    "plt.show()"
   ]
  },
  {
   "cell_type": "markdown",
   "id": "03b91158",
   "metadata": {},
   "source": [
    "#### Heatmap of the Principal Component Loadings\n",
    "\n",
    "A heatmap of the PCA loadings can reveal patterns, such as grouping of elements based on nucleosynthesis processes (e.g., α-elements, iron-peak elements):"
   ]
  },
  {
   "cell_type": "code",
   "execution_count": null,
   "id": "a46b4621",
   "metadata": {},
   "outputs": [],
   "source": [
    "import seaborn as sns\n",
    "\n",
    "# Heatmap of the loadings for the first few PCs\n",
    "plt.figure(figsize=(15, 10))\n",
    "sns.heatmap(loadings.iloc[:, :10], annot=True, cmap=\"coolwarm\")\n",
    "plt.title('Heatmap of PCA Loadings (First 5 PCs)')\n",
    "plt.show()"
   ]
  },
  {
   "cell_type": "markdown",
   "id": "89850e82",
   "metadata": {},
   "source": [
    "This heatmap will show which elements are most strongly associated with each PC."
   ]
  },
  {
   "cell_type": "markdown",
   "id": "629dbfc7",
   "metadata": {},
   "source": [
    "#### Projection onto Principal Components\n",
    "\n",
    "Finally, you can project stars onto the principal component space to see how they cluster:"
   ]
  },
  {
   "cell_type": "code",
   "execution_count": null,
   "id": "ff1a7cf2",
   "metadata": {},
   "outputs": [],
   "source": [
    "f, gs = plt.subplots(1,2,figsize=(15,5))\n",
    "ax = gs[0]\n",
    "s = ax.scatter(pca_result[:, 0], pca_result[:, 1], s=5, c=abundances['fe_h'], cmap='RdYlBu')\n",
    "plt.colorbar(s, ax=ax,label='[Fe/H]')\n",
    "ax.set_xlabel('PC1')\n",
    "ax.set_ylabel('PC2')\n",
    "\n",
    "ax = gs[1]\n",
    "s = ax.scatter(pca_result[:, 0], pca_result[:, 1], s=5, c=abundances['ba_h']-abundances['fe_h'], cmap='RdYlBu')\n",
    "plt.colorbar(s, ax=ax,label='[Ba/Fe]')\n",
    "ax.set_xlabel('PC1')\n",
    "ax.set_ylabel('PC2')\n",
    "\n",
    "plt.tight_layout()\n",
    "plt.show()"
   ]
  },
  {
   "cell_type": "code",
   "execution_count": null,
   "id": "47ffdeb9",
   "metadata": {
    "scrolled": false
   },
   "outputs": [],
   "source": [
    "f, gs = plt.subplots(1,2,figsize=(15,5))\n",
    "ax = gs[0]\n",
    "s = ax.scatter(pca_result[:, 0], pca_result[:, 2], s=5, c=abundances['al_h'], cmap='RdYlBu')\n",
    "plt.colorbar(s, ax=ax,label='[Al/H]')\n",
    "ax.set_xlabel('PC1')\n",
    "ax.set_ylabel('PC2')\n",
    "\n",
    "ax = gs[1]\n",
    "s = ax.scatter(pca_result[:, 0], pca_result[:, 2], s=5, c=abundances['al_h']-abundances['fe_h'], cmap='RdYlBu')\n",
    "plt.colorbar(s, ax=ax,label='[Al/Fe]')\n",
    "ax.set_xlabel('PC1')\n",
    "ax.set_ylabel('PC2')\n",
    "\n",
    "plt.tight_layout()\n",
    "plt.show()"
   ]
  }
 ],
 "metadata": {
  "kernelspec": {
   "display_name": "py_3_12",
   "language": "python",
   "name": "python3"
  },
  "language_info": {
   "codemirror_mode": {
    "name": "ipython",
    "version": 3
   },
   "file_extension": ".py",
   "mimetype": "text/x-python",
   "name": "python",
   "nbconvert_exporter": "python",
   "pygments_lexer": "ipython3",
   "version": "3.12.11"
  },
  "toc": {
   "base_numbering": 1,
   "nav_menu": {},
   "number_sections": true,
   "sideBar": true,
   "skip_h1_title": true,
   "title_cell": "Table of Contents",
   "title_sidebar": "Contents",
   "toc_cell": true,
   "toc_position": {
    "height": "calc(100% - 180px)",
    "left": "10px",
    "top": "150px",
    "width": "165px"
   },
   "toc_section_display": true,
   "toc_window_display": true
  }
 },
 "nbformat": 4,
 "nbformat_minor": 5
}
