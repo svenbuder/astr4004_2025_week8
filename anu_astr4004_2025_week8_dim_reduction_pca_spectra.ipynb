{
 "cells": [
  {
   "cell_type": "markdown",
   "id": "3c5366df",
   "metadata": {},
   "source": [
    "# ANU ASTR4004 2025 - Week 8\n",
    "\n",
    "Author: Dr Sven Buder (sven.buder@anu.edu.au)\n",
    "\n",
    "based on Viviana Acquaviva's notebooks and the scikit learn tutorial:  \n",
    "https://ogrisel.github.io/scikit-learn.org/sklearn-tutorial/tutorial/astronomy/dimensionality_reduction.html#sdss-spectral-data\n"
   ]
  },
  {
   "cell_type": "code",
   "execution_count": null,
   "id": "a44ccb03",
   "metadata": {},
   "outputs": [],
   "source": [
    "try:\n",
    "    %matplotlib inline\n",
    "    %config InlineBackend.figure_format='retina'\n",
    "except:\n",
    "    pass\n",
    "\n",
    "import numpy as np\n",
    "import matplotlib.pyplot as plt\n",
    "import matplotlib\n",
    "from matplotlib import patches\n",
    "from sklearn import preprocessing, decomposition\n",
    "\n",
    "# Make the size and fonts larger for this presentation\n",
    "plt.rcParams['font.size'] = 15\n",
    "plt.rcParams['legend.fontsize'] = 12"
   ]
  },
  {
   "cell_type": "markdown",
   "id": "f32899f1",
   "metadata": {},
   "source": [
    "## Dimensionality reduction of galaxy spectra"
   ]
  },
  {
   "cell_type": "markdown",
   "id": "52868152",
   "metadata": {},
   "source": [
    "### The data: 4000 spectra, 1000 features"
   ]
  },
  {
   "cell_type": "code",
   "execution_count": null,
   "id": "60f141ce",
   "metadata": {},
   "outputs": [],
   "source": [
    "data = np.load('data/spec4000_corrected.npz')"
   ]
  },
  {
   "cell_type": "code",
   "execution_count": null,
   "id": "d5084029",
   "metadata": {},
   "outputs": [],
   "source": [
    "wavelengths = data['wavelengths']\n",
    "X = data['X']\n",
    "y = data['y']\n",
    "labels = data['labels'].astype('str')"
   ]
  },
  {
   "cell_type": "code",
   "execution_count": null,
   "id": "b977f76c",
   "metadata": {},
   "outputs": [],
   "source": [
    "X.shape"
   ]
  },
  {
   "cell_type": "code",
   "execution_count": null,
   "id": "21560d5e",
   "metadata": {},
   "outputs": [],
   "source": [
    "y"
   ]
  },
  {
   "cell_type": "code",
   "execution_count": null,
   "id": "b193a02b",
   "metadata": {},
   "outputs": [],
   "source": [
    "# Let's plot a few spectra\n",
    "plt.figure(figsize=(10,5))\n",
    "\n",
    "for i_class in (2, 3, 4, 5, 6):\n",
    "    i = np.where(y == i_class)[0][0]\n",
    "    l = plt.plot(wavelengths, X[i] + 20 * i_class)\n",
    "    c = l[0].get_color()\n",
    "    plt.text(6800, 2 + 20 * i_class, labels[i_class], color=c)\n",
    "\n",
    "plt.subplots_adjust(hspace=0)\n",
    "plt.xlabel('wavelength (Angstroms)')\n",
    "plt.ylabel('flux + offset')\n",
    "plt.title('Sample of Spectra');\n",
    "plt.show()"
   ]
  },
  {
   "cell_type": "markdown",
   "id": "ffb61798",
   "metadata": {},
   "source": [
    "### Let's throw a PCA onto it"
   ]
  },
  {
   "cell_type": "code",
   "execution_count": null,
   "id": "aebb2789",
   "metadata": {},
   "outputs": [],
   "source": [
    "#  Perform PCA\n",
    "\n",
    "scaler = preprocessing.StandardScaler() #It's important that data are centered!\n",
    "\n",
    "Xn = scaler.fit_transform(X) #This is a standardization procedure.\n",
    "\n",
    "pca_1 = decomposition.PCA(n_components=1, random_state=0)\n",
    "\n",
    "pca_2 = decomposition.PCA(n_components=2, random_state=0)\n",
    "\n",
    "pca_5 = decomposition.PCA(n_components=5, random_state=0)\n",
    "\n",
    "pca_50 = decomposition.PCA(n_components=50, random_state=0)\n",
    "\n",
    "pca_100 = decomposition.PCA(n_components=100, random_state=0)\n",
    "\n",
    "pca_1000 = decomposition.PCA(n_components=1000, random_state=0)\n",
    "\n",
    "X_proj_1 = pca_1.fit_transform(Xn) #the projected data set - it lives in a new feature space with 4,000 objects and 1 features\n",
    "\n",
    "X_proj_2 = pca_2.fit_transform(Xn) #the projected data set - it lives in a new feature space with 4,000 objects and 2 features\n",
    "\n",
    "X_proj_5 = pca_5.fit_transform(Xn) #the projected data set - it lives in a new feature space with 4,000 objects and 5 features\n",
    "\n",
    "X_proj_50 = pca_50.fit_transform(Xn) #the projected data set - it lives in a new feature space with 4,000 objects and 50 features\n",
    "\n",
    "X_proj_100 = pca_100.fit_transform(Xn) #the projected data set - it lives in a new feature space with 4,000 objects and 100 features\n",
    "\n",
    "X_proj_1000 = pca_1000.fit_transform(Xn) #the projected data set - it lives in a new feature space with 4,000 objects and 1000 features"
   ]
  },
  {
   "cell_type": "code",
   "execution_count": null,
   "id": "25dc0a40",
   "metadata": {},
   "outputs": [],
   "source": [
    "plt.figure()\n",
    "\n",
    "l = plt.plot(wavelengths, pca_50.mean_ - 0.15)\n",
    "c = l[0].get_color()\n",
    "plt.text(7000, -0.16, \"mean\", color=c) \n",
    "\n",
    "# In linear PCA, the first eigenvector is always the mean, \n",
    "# and the first n components are always the same\n",
    "\n",
    "for i in range(4):\n",
    "    \n",
    "    l = plt.plot(wavelengths, pca_50.components_[i] + 0.15 * i)\n",
    "    \n",
    "    l = plt.plot(wavelengths, pca_100.components_[i] + 0.15 * i, linestyle = '-.')\n",
    "    \n",
    "    c = l[0].get_color()\n",
    "    \n",
    "    plt.text(7000, -0.01 + 0.15 * i, \"component %i\" % (i + 1), color=c)\n",
    "\n",
    "    plt.ylim(-0.2, 0.6)\n",
    "    \n",
    "plt.xlabel('wavelength (Angstroms)')\n",
    "plt.ylabel('scaled flux + offset')\n",
    "plt.title('Mean Spectrum and Eigen-spectra')\n",
    "\n",
    "plt.show()"
   ]
  },
  {
   "cell_type": "code",
   "execution_count": null,
   "id": "af212367",
   "metadata": {},
   "outputs": [],
   "source": [
    "f, gs = plt.subplots(1,2,figsize=(10,4))\n",
    "\n",
    "gs[0].plot(np.arange(50)+1,pca_50.explained_variance_ratio_)\n",
    "gs[0].set_ylabel('Variation explained \\n by each component')\n",
    "gs[0].set_xlabel('Component')\n",
    "\n",
    "gs[1].plot(np.arange(50)+1,np.cumsum(pca_50.explained_variance_ratio_))\n",
    "gs[1].set_ylabel('Variation explained \\n by all components')\n",
    "gs[1].set_xlabel('Component')\n",
    "gs[1].set_xlim(0,10)\n",
    "\n",
    "plt.tight_layout()\n",
    "plt.show()"
   ]
  },
  {
   "cell_type": "code",
   "execution_count": null,
   "id": "477408e3",
   "metadata": {},
   "outputs": [],
   "source": [
    "# Reconstruct spectra\n",
    "print(np.shape(Xn))\n",
    "X_recon_1 = pca_1.inverse_transform(X_proj_1)\n",
    "X_recon_2 = pca_2.inverse_transform(X_proj_2)\n",
    "X_recon_5 = pca_5.inverse_transform(X_proj_5)\n",
    "X_recon_50 = pca_50.inverse_transform(X_proj_50)\n",
    "X_recon_100 = pca_100.inverse_transform(X_proj_100)\n",
    "X_recon_1000 = pca_1000.inverse_transform(X_proj_1000)\n",
    "\n",
    "# Pick 5 random stars\n",
    "np.random.seed(902)\n",
    "n_examples = 5\n",
    "idx = np.random.choice(X.shape[0], size=n_examples, replace=False)\n",
    "\n",
    "wavelengths = range(X.shape[1])  # or real wavelength array if you have one\n",
    "\n",
    "fig, axes = plt.subplots(n_examples, 6, figsize=(16, 10), sharex=True, sharey=True)\n",
    "\n",
    "for row, i in enumerate(idx):\n",
    "    # Original\n",
    "    axes[row, 0].plot(wavelengths, Xn[i], color=\"black\")\n",
    "    axes[row, 0].set_title(\"Original (normalized)\")\n",
    "    \n",
    "    # Reconstructed with 1 PCs\n",
    "    axes[row, 1].plot(wavelengths, X_recon_1[i], color=\"C0\")\n",
    "    axes[row, 1].set_title(\"PCA 1\")\n",
    "\n",
    "    # Reconstructed with 2 PCs\n",
    "    axes[row, 2].plot(wavelengths, X_recon_2[i], color=\"C1\")\n",
    "    axes[row, 2].set_title(\"PCA 2\")\n",
    "\n",
    "    # Reconstructed with 50 PCs\n",
    "    axes[row, 3].plot(wavelengths, X_recon_5[i], color=\"C2\")\n",
    "    axes[row, 3].set_title(\"PCA 5\")\n",
    "\n",
    "    # Reconstructed with 50 PCs\n",
    "    axes[row, 4].plot(wavelengths, X_recon_50[i], color=\"C3\")\n",
    "    axes[row, 4].set_title(\"PCA 50\")\n",
    "    \n",
    "    # Reconstructed with 1000 PCs\n",
    "    axes[row, 5].plot(wavelengths, X_recon_1000[i], color=\"C4\")\n",
    "    axes[row, 5].set_title(\"PCA 1000\")\n",
    "\n",
    "for ax in axes[:, 0]:\n",
    "    ax.set_ylabel(\"Flux (scaled)\")\n",
    "for ax in axes[-1, :]:\n",
    "    ax.set_xlabel(\"Pixels\")\n",
    "\n",
    "plt.tight_layout()\n",
    "plt.show()\n"
   ]
  },
  {
   "cell_type": "code",
   "execution_count": null,
   "id": "fbd104aa",
   "metadata": {},
   "outputs": [],
   "source": []
  }
 ],
 "metadata": {
  "kernelspec": {
   "display_name": "py_3_12",
   "language": "python",
   "name": "python3"
  },
  "language_info": {
   "codemirror_mode": {
    "name": "ipython",
    "version": 3
   },
   "file_extension": ".py",
   "mimetype": "text/x-python",
   "name": "python",
   "nbconvert_exporter": "python",
   "pygments_lexer": "ipython3",
   "version": "3.12.11"
  },
  "toc": {
   "base_numbering": 1,
   "nav_menu": {},
   "number_sections": true,
   "sideBar": true,
   "skip_h1_title": true,
   "title_cell": "Table of Contents",
   "title_sidebar": "Contents",
   "toc_cell": true,
   "toc_position": {
    "height": "calc(100% - 180px)",
    "left": "10px",
    "top": "150px",
    "width": "211.59375px"
   },
   "toc_section_display": true,
   "toc_window_display": true
  }
 },
 "nbformat": 4,
 "nbformat_minor": 5
}
